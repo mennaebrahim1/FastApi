{
 "cells": [
  {
   "cell_type": "code",
   "execution_count": null,
   "id": "bc365dbd",
   "metadata": {},
   "outputs": [],
   "source": [
    "%pip install pyngrok"
   ]
  },
  {
   "cell_type": "code",
   "execution_count": null,
   "id": "94c1388b",
   "metadata": {},
   "outputs": [],
   "source": [
    "!ngrok config add-authtoken \"2tA4jIqwhVEFywNqJvifyFYHkvD_6p82fsE12GmzQ4sXArwJ4\""
   ]
  },
  {
   "cell_type": "code",
   "execution_count": null,
   "id": "f943d34b",
   "metadata": {},
   "outputs": [],
   "source": [
    "!pip install fastapi nest-asyncio uvicorn"
   ]
  },
  {
   "cell_type": "code",
   "execution_count": null,
   "id": "6f3c71ae",
   "metadata": {},
   "outputs": [],
   "source": [
    "from fastapi import FastAPI\n",
    "from fastapi.middleware.cors import CORSMiddleware\n",
    "import nest_asyncio\n",
    "from pyngrok import ngrok\n",
    "import uvicorn\n",
    "from pydantic import BaseModel\n",
    "from fastapi import HTTPException\n",
    "\n",
    "# Pydantic model for input and output\n",
    "class Question(BaseModel):\n",
    "    question: str\n",
    "\n",
    "class Answer(BaseModel):\n",
    "    answer: str\n",
    "\n",
    "app =FastAPI()\n",
    "\n",
    "# middlewares\n",
    "app.add_middleware(\n",
    "    CORSMiddleware, \n",
    "    allow_origins=['*'], \n",
    "    allow_credentials=True, \n",
    "    allow_methods=['*'], \n",
    "    allow_headers=['*'], \n",
    ")\n",
    "\n",
    "\n",
    "@app.post('/answer')\n",
    "async def get_answer(question: Question) -> Answer:\n",
    "    \"\"\"\n",
    "    Example post request body:\n",
    "    {\n",
    "        \"question\": \"What is the capital of France?\"\n",
    "    }\n",
    "    Example response:\n",
    "    {\n",
    "        \"answer\": \"The capital of France is Paris.\"\n",
    "    }\n",
    "    \"\"\"\n",
    "    answer = get_response(question.question)\n",
    "    return Answer(answer=answer)\n",
    "\n",
    "\n",
    "# Set up the FastAPI app to run on a public URL via ngrok\n",
    "port = 8004\n",
    "ngrok_tunnel = ngrok.connect(port)\n",
    "print(f\"Public URL: {ngrok_tunnel.public_url}\")\n",
    "\n",
    "nest_asyncio.apply()\n",
    "uvicorn.run(app, port=port)"
   ]
  }
 ],
 "metadata": {
  "language_info": {
   "name": "python"
  }
 },
 "nbformat": 4,
 "nbformat_minor": 5
}
